{
 "cells": [
  {
   "cell_type": "markdown",
   "metadata": {
    "collapsed": true,
    "pycharm": {
     "name": "#%% md\n"
    }
   },
   "source": [
    "# Azure Anomaly Detector Tests\n",
    "\n",
    "We test out Azure's anomaly detector using the free bucks on a personal account.\n"
   ]
  },
  {
   "cell_type": "markdown",
   "source": [
    "## Authenticating the Client\n",
    "\n",
    "Before using the container we pass the api key and endpoint location as environment variables.\n"
   ],
   "metadata": {
    "collapsed": false,
    "pycharm": {
     "name": "#%% md\n"
    }
   }
  },
  {
   "cell_type": "code",
   "execution_count": 7,
   "outputs": [],
   "source": [
    "from azure.cognitiveservices.anomalydetector import AnomalyDetectorClient\n",
    "from msrest.authentication import CognitiveServicesCredentials\n",
    "import os\n",
    "\n",
    "\n",
    "# variables that come from the microsoft page\n",
    "# this sample assumes you have created an environment variable for your key and endpoint\n",
    "# heck the Anomaly detector tutorial on how to create them\n",
    "SUBSCRIPTION_KEY = os.environ[\"ANOMALY_DETECTOR_KEY\"]\n",
    "ANOMALY_DETECTOR_ENDPOINT = os.environ[\"ANOMALY_DETECTOR_ENDPOINT\"]\n",
    "\n",
    "client = AnomalyDetectorClient(ANOMALY_DETECTOR_ENDPOINT, \n",
    "                               CognitiveServicesCredentials(SUBSCRIPTION_KEY))"
   ],
   "metadata": {
    "collapsed": false,
    "pycharm": {
     "name": "#%%\n",
     "is_executing": false
    }
   }
  },
  {
   "cell_type": "markdown",
   "source": [
    "## Loading the time series and Request\n",
    "\n",
    "Having client ready let's import data examples. Then, create a request object and set the granularity \n",
    "(or periodicity, i.e.: Granularity.daily) of data points."
   ],
   "metadata": {
    "collapsed": false,
    "pycharm": {
     "name": "#%% md\n"
    }
   }
  },
  {
   "cell_type": "code",
   "execution_count": 8,
   "outputs": [],
   "source": [
    "import pandas as pd\n",
    "from azure.cognitiveservices.anomalydetector.models import Point, Request, Granularity\n",
    "\n",
    "\n",
    "TIME_SERIES_DATA_PATH = \"./example-data/request-data.csv\"\n",
    "series = []\n",
    "data_file = pd.read_csv(TIME_SERIES_DATA_PATH, header=None, encoding='utf-8', parse_dates=[0])\n",
    "for index, row in data_file.iterrows():\n",
    "    series.append(Point(timestamp=row[0], value=row[1]))\n",
    "\n",
    "request = Request(series=series, granularity=Granularity.daily)"
   ],
   "metadata": {
    "collapsed": false,
    "pycharm": {
     "name": "#%%\n",
     "is_executing": false
    }
   }
  },
  {
   "cell_type": "markdown",
   "source": [
    "## Using the anomality detector in an entire data point\n"
   ],
   "metadata": {
    "collapsed": false,
    "pycharm": {
     "name": "#%% md\n"
    }
   }
  },
  {
   "cell_type": "code",
   "execution_count": 10,
   "outputs": [
    {
     "name": "stdout",
     "text": [
      "Detecting anomalies in the entire time series.\n",
      "An anomaly was detected at index:\n",
      "3\n",
      "18\n",
      "21\n",
      "22\n",
      "23\n",
      "24\n",
      "25\n",
      "28\n",
      "29\n",
      "30\n",
      "31\n",
      "32\n",
      "35\n",
      "44\n"
     ],
     "output_type": "stream"
    },
    {
     "data": {
      "text/plain": "                          0         1\n0 2018-03-01 00:00:00+00:00  32858923\n1 2018-03-02 00:00:00+00:00  29615278\n2 2018-03-03 00:00:00+00:00  22839355\n3 2018-03-04 00:00:00+00:00  25948736\n4 2018-03-05 00:00:00+00:00  34139159",
      "text/html": "<div>\n<style scoped>\n    .dataframe tbody tr th:only-of-type {\n        vertical-align: middle;\n    }\n\n    .dataframe tbody tr th {\n        vertical-align: top;\n    }\n\n    .dataframe thead th {\n        text-align: right;\n    }\n</style>\n<table border=\"1\" class=\"dataframe\">\n  <thead>\n    <tr style=\"text-align: right;\">\n      <th></th>\n      <th>0</th>\n      <th>1</th>\n    </tr>\n  </thead>\n  <tbody>\n    <tr>\n      <th>0</th>\n      <td>2018-03-01 00:00:00+00:00</td>\n      <td>32858923</td>\n    </tr>\n    <tr>\n      <th>1</th>\n      <td>2018-03-02 00:00:00+00:00</td>\n      <td>29615278</td>\n    </tr>\n    <tr>\n      <th>2</th>\n      <td>2018-03-03 00:00:00+00:00</td>\n      <td>22839355</td>\n    </tr>\n    <tr>\n      <th>3</th>\n      <td>2018-03-04 00:00:00+00:00</td>\n      <td>25948736</td>\n    </tr>\n    <tr>\n      <th>4</th>\n      <td>2018-03-05 00:00:00+00:00</td>\n      <td>34139159</td>\n    </tr>\n  </tbody>\n</table>\n</div>"
     },
     "metadata": {},
     "output_type": "execute_result",
     "execution_count": 10
    }
   ],
   "source": [
    "from azure.cognitiveservices.anomalydetector.models import APIErrorException\n",
    "\n",
    "\n",
    "print('Detecting anomalies in the entire time series.')\n",
    "response = None\n",
    "try:\n",
    "    response = client.entire_detect(request)\n",
    "except Exception as e:\n",
    "    if isinstance(e, APIErrorException):\n",
    "        print('Error code: {}'.format(e.error.code), 'Error message: {}'.format(e.error.message))\n",
    "    else:\n",
    "        print(e)\n",
    "\n",
    "freaks = [index for index, value in enumerate(response.is_anomaly) if value]\n",
    "\n",
    "\n",
    "# print the time-series with highlight in anomalies\n",
    "# it seems easier to plot from the DataFrame than the Point series\n",
    "data_file.head()\n"
   ],
   "metadata": {
    "collapsed": false,
    "pycharm": {
     "name": "#%%\n",
     "is_executing": false
    }
   }
  }
 ],
 "metadata": {
  "kernelspec": {
   "display_name": "Python 3",
   "language": "python",
   "name": "python3"
  },
  "language_info": {
   "codemirror_mode": {
    "name": "ipython",
    "version": 2
   },
   "file_extension": ".py",
   "mimetype": "text/x-python",
   "name": "python",
   "nbconvert_exporter": "python",
   "pygments_lexer": "ipython2",
   "version": "2.7.6"
  },
  "pycharm": {
   "stem_cell": {
    "cell_type": "raw",
    "source": [],
    "metadata": {
     "collapsed": false
    }
   }
  }
 },
 "nbformat": 4,
 "nbformat_minor": 0
}